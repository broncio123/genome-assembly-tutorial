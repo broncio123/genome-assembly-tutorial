{
 "cells": [
  {
   "cell_type": "markdown",
   "metadata": {},
   "source": [
    "# Context"
   ]
  },
  {
   "cell_type": "markdown",
   "metadata": {},
   "source": [
    "[Video tutorial](https://youtu.be/XhhzJDdsQG4?si=tHnWNAfxiKlOQ3B3)"
   ]
  },
  {
   "cell_type": "markdown",
   "metadata": {},
   "source": [
    "Genome of an [endophyte](https://en.wikipedia.org/wiki/Endophyte). Often a fungus or a bacterium that lives in plants during their full life cycle without causing apparent disease."
   ]
  },
  {
   "cell_type": "markdown",
   "metadata": {},
   "source": [
    "# 1. Data download"
   ]
  },
  {
   "cell_type": "markdown",
   "metadata": {},
   "source": [
    "This is downloaded from the SRA (Sequence Read Archive), maintained by the NCBI.\n",
    "\n",
    "We will download `SRR9321164` from the SRA, with this [link](https://www.ncbi.nlm.nih.gov/sra/?term=SRR9321164)"
   ]
  },
  {
   "cell_type": "code",
   "execution_count": null,
   "metadata": {},
   "outputs": [],
   "source": [
    "!prefetch SRR9321164"
   ]
  },
  {
   "cell_type": "markdown",
   "metadata": {},
   "source": [
    "# 2. Data splitting"
   ]
  },
  {
   "cell_type": "code",
   "execution_count": null,
   "metadata": {},
   "outputs": [],
   "source": [
    "!fastq-dump --split-files SRR9321164.sra"
   ]
  },
  {
   "cell_type": "markdown",
   "metadata": {},
   "source": [
    "This will find the forward (1) and reverse (2) reads and put them into separate files: `SRR9321164_1.fastq` and `SRR9321164_2.fastq`"
   ]
  },
  {
   "cell_type": "markdown",
   "metadata": {},
   "source": [
    "# 3. Data QC (Quality Control)"
   ]
  },
  {
   "cell_type": "markdown",
   "metadata": {},
   "source": [
    "Uses [`fastqc`](https://www.bioinformatics.babraham.ac.uk/projects/fastqc/) and [`multiqc`](https://multiqc.info/).\n",
    "\n",
    "fastqc generates individual reports for each input fastq file.\n",
    "\n",
    "multiqc generates a combined report out of individual fastqc reports. "
   ]
  },
  {
   "cell_type": "code",
   "execution_count": null,
   "metadata": {},
   "outputs": [],
   "source": [
    "!fastqc -o rawReads/ -t 2 rawReads/SRR9321164*.fastq"
   ]
  },
  {
   "cell_type": "markdown",
   "metadata": {},
   "source": [
    "This command will run quality control checks for the forwards and reverse reads. The execution users 2 threads (`-t`) (CPUs) and takes the `fastq` files for both read types.  "
   ]
  },
  {
   "cell_type": "markdown",
   "metadata": {},
   "source": [
    "# 4. Read Trimming"
   ]
  },
  {
   "cell_type": "markdown",
   "metadata": {},
   "source": [
    "Uses [`trimmomatic`](http://www.usadellab.org/cms/index.php?page=trimmomatic) [0.39 version](https://github.com/usadellab/Trimmomatic/releases/tag/v0.39). Needs Java."
   ]
  },
  {
   "cell_type": "code",
   "execution_count": null,
   "metadata": {},
   "outputs": [],
   "source": [
    "!java -jar /home/sanjuan/miniconda3/envs/genome-assembly-tutorial/share/Trimmomatic-0.39/trimmomatic-0.39.jar PE \\\n",
    "     -threads 8 rawReads/SRR9321164_1.fastq rawReads/SRR9321164_2.fastq \\\n",
    "     -baseout trimmedReads/SRR9321164.fastq \\\n",
    "      ILLUMINACLIP:NexteraPE-PE.fa:2:30:10:8:keepBothReads HEADCROP:15 SLIDINGWINDOW:4:25"
   ]
  },
  {
   "cell_type": "markdown",
   "metadata": {},
   "source": [
    "# 5. Genome Assembly"
   ]
  },
  {
   "cell_type": "markdown",
   "metadata": {},
   "source": [
    "Uses [`unicycler`](https://github.com/rrwick/Unicycler) (an assembly pipeline for bacterial genomes)"
   ]
  },
  {
   "cell_type": "markdown",
   "metadata": {},
   "source": [
    "Dependencies\n",
    "\n",
    "* [Spades](https://github.com/ablab/spades)"
   ]
  },
  {
   "cell_type": "code",
   "execution_count": null,
   "metadata": {},
   "outputs": [],
   "source": [
    "!unicycler -1 trimmedReads/SRR9321164_1P.fastq \\\n",
    "          -2 trimmedReads/SRR9321164_2P.fastq \\\n",
    "          -s trimmedReads/SRR9321164_unpaired.fastq \\\n",
    "          -o assembly --verbosity 2 --min_fasta_length 200 \\\n",
    "          -t 12 --spades_path spades/bin/spades.py"
   ]
  },
  {
   "cell_type": "markdown",
   "metadata": {},
   "source": [
    "# 6. Genome Annotation"
   ]
  },
  {
   "cell_type": "markdown",
   "metadata": {},
   "source": [
    "Uses [`prokka`](https://github.com/tseemann/prokka) (Rapid Prokaryotic Genome Annotation)"
   ]
  },
  {
   "cell_type": "code",
   "execution_count": null,
   "metadata": {},
   "outputs": [],
   "source": [
    "!prokka --outdir prokkaResults --genus 'Methylorubrum' --strain 'Q1' --cpus 12 assembly/assembly.fasta"
   ]
  },
  {
   "cell_type": "markdown",
   "metadata": {},
   "source": [
    "# 7. Genome QA (Quality Assessment)"
   ]
  },
  {
   "cell_type": "markdown",
   "metadata": {},
   "source": [
    "Uses `quast` (Quality Assessment Tool for Genome Assemblies)"
   ]
  },
  {
   "cell_type": "code",
   "execution_count": null,
   "metadata": {},
   "outputs": [],
   "source": [
    "!quast -o quastResults -g prokkaResults/PROKKA_09232024.gff -t 12 \\\n",
    "    -1 trimmedReads/SRR9321164_1P.fastq -2 trimmedReads/SRR9321164_2P.fastq \\\n",
    "    --single trimmedReads/SRR9321164_unpaired.fastq --gene-thresholds 0,1000 assembly/assembly.fasta \\\n",
    "    --glimmer"
   ]
  }
 ],
 "metadata": {
  "kernelspec": {
   "display_name": "genome-assembly-tutorial",
   "language": "python",
   "name": "python3"
  },
  "language_info": {
   "codemirror_mode": {
    "name": "ipython",
    "version": 3
   },
   "file_extension": ".py",
   "mimetype": "text/x-python",
   "name": "python",
   "nbconvert_exporter": "python",
   "pygments_lexer": "ipython3",
   "version": "3.10.14"
  }
 },
 "nbformat": 4,
 "nbformat_minor": 2
}
